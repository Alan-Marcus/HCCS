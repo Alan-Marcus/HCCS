{
  "nbformat": 4,
  "nbformat_minor": 0,
  "metadata": {
    "colab": {
      "name": "SLEAP Scale Calculation",
      "provenance": [],
      "collapsed_sections": [],
      "authorship_tag": "ABX9TyNkFxNAKduDq5KahVOIQSxH",
      "include_colab_link": true
    },
    "kernelspec": {
      "name": "python3",
      "display_name": "Python 3"
    },
    "language_info": {
      "name": "python"
    }
  },
  "cells": [
    {
      "cell_type": "markdown",
      "metadata": {
        "id": "view-in-github",
        "colab_type": "text"
      },
      "source": [
        "<a href=\"https://colab.research.google.com/github/Alan-Marcus/HCCS/blob/main/03%20Analysis%20scripts%20and%20templates/SLEAP/Colab%20Notebooks/SLEAP_Scale_Calculation.ipynb\" target=\"_parent\"><img src=\"https://colab.research.google.com/assets/colab-badge.svg\" alt=\"Open In Colab\"/></a>"
      ]
    },
    {
      "cell_type": "markdown",
      "source": [
        "**HCCS: Scale Calculation for SLEAP**"
      ],
      "metadata": {
        "id": "cAuWl84THMyn"
      }
    },
    {
      "cell_type": "markdown",
      "source": [
        "This is an example notebook to calculate the real-world scale for videos recorded using the Home-Cage Camera System (HCCS; https://github.com/Alan-Marcus/HCCS) and using SLEAP (https://sleap.ai) for analysis.\n",
        "This notebook will extract the coordinates from an H5 analysis file and save them in a CSV file for input into the analysis template."
      ],
      "metadata": {
        "id": "HfBt7se5HTbq"
      }
    },
    {
      "cell_type": "markdown",
      "source": [
        "#0. Setup\n",
        "\n",
        "1. Upload the scale analysis file to the analysis folder in Google Drive.\n",
        "2. Run the following cells to setup the required utilities and connect your Google Drive to this session."
      ],
      "metadata": {
        "id": "B6MVhZMBHz9_"
      }
    },
    {
      "cell_type": "code",
      "source": [
        "#@title Install Utilities\n",
        "import h5py\n",
        "import numpy as np\n",
        "import pandas as pd\n",
        "from google.colab import files\n",
        "from google.colab import drive\n",
        "print('done')"
      ],
      "metadata": {
        "cellView": "form",
        "id": "YoGus_F4IUMN"
      },
      "execution_count": null,
      "outputs": []
    },
    {
      "cell_type": "code",
      "source": [
        "#@title Connect Google Drive\n",
        "drive.mount('/content/drive/')"
      ],
      "metadata": {
        "cellView": "form",
        "id": "OEplz5qyIzqj"
      },
      "execution_count": null,
      "outputs": []
    },
    {
      "cell_type": "markdown",
      "source": [
        "#1. Specify Analysis File and Convert to CSV\n"
      ],
      "metadata": {
        "id": "7mlmWIBqJsQv"
      }
    },
    {
      "cell_type": "code",
      "source": [
        "#@title Edit Parameter Names\n",
        "path_to_SLEAP_analysis_folder = \"/content/drive/MyDrive/SLEAP/analysis\" #@param {type:\"string\"}\n",
        "h5_scale_file = \"HCCS_example_project-scale.analysis.h5\"  #@param {type:\"string\"}\n",
        "\n",
        "#---don't edit below\n",
        "h5_to_convert = path_to_SLEAP_analysis_folder + \"/\" + h5_scale_file\n",
        "\n",
        "#Create CSV file of tracks \n",
        "#Open the HDF5 file using h5py\n",
        "with h5py.File(h5_to_convert, \"r\") as f:\n",
        "\n",
        "#Load all the datasets into a dictionary\n",
        "  csvdata = {k: v[:] for k, v in f.items()}\n",
        "\n",
        "#Convert string arrays into regular Python strings\n",
        "  csvdata[\"node_names\"] = [s.decode() for s in csvdata[\"node_names\"].tolist()]\n",
        "  csvdata[\"track_names\"] = [s.decode() for s in csvdata[\"track_names\"].tolist()]\n",
        "\n",
        "#Transpose the tracks axes\n",
        "  csvdata[\"tracks\"] = np.transpose(csvdata[\"tracks\"])\n",
        "\n",
        "#Convert the data type of the track occupancy array to boolean\n",
        "#  csvdata[\"track_occupancy\"] = csvdata[\"track_occupancy\"].astype(bool)  #original code - excludes empty tracks\n",
        "  csvdata[\"track_occupancy_all\"] = csvdata[\"track_occupancy\"] + 1  #Use to include empty tracks in output\n",
        "  csvdata[\"track_occupancy_all\"] = csvdata[\"track_occupancy_all\"].astype(bool)  #Use to include empty tracks in output\n",
        "\n",
        "#Describe the values in the data dictionary\n",
        "for key, value in csvdata.items():\n",
        " if isinstance(value, np.ndarray):\n",
        "   print(f\"{key}: {value.dtype} array of shape {value.shape}\")\n",
        " else:\n",
        "   print(f\"{key}: {value}\")\n",
        "\n",
        "#Array of frames that have at least one animal tracked\n",
        "#valid_frame_idxs = np.argwhere(csvdata[\"track_occupancy\"].any(axis=1)).flatten()  #original code - excludes empty tracks\n",
        "valid_frame_idxs = np.argwhere(csvdata[\"track_occupancy_all\"].any(axis=1)).flatten()  #Use to include empty tracks in output\n",
        "valid_frame_idxs\n",
        "\n",
        "#Generate a 'tracks' table where each row contains the detected body part coordinates for a single animal in a single frame\n",
        "tracks = []\n",
        "for frame_idx in valid_frame_idxs:\n",
        "#Get the tracking data for the current frame\n",
        "  frame_tracks = csvdata[\"tracks\"][frame_idx]\n",
        "\n",
        "#Loop over the animals in the current frame\n",
        "  for i in range(frame_tracks.shape[-1]):\n",
        "    pts = frame_tracks[..., i]\n",
        "    \n",
        "#Uncomment these lines to skip this animal for the current frame if all of its points are missing (i.e. uncomment to not include empty rows)\n",
        "    if np.isnan(pts).all():\n",
        "      continue\n",
        "    \n",
        "#Initialize our row with some metadata\n",
        "    detection = {\"track\": csvdata[\"track_names\"][i], \"frame_idx\": frame_idx}\n",
        "\n",
        "#Fill in the coordinates for each body part\n",
        "    for node_name, (x, y) in zip(csvdata[\"node_names\"], pts):\n",
        "      detection[f\"{node_name}.x\"] = x\n",
        "      detection[f\"{node_name}.y\"] = y\n",
        "\n",
        "#Add the row to the list and move on to the next detection\n",
        "    tracks.append(detection)\n",
        "\n",
        "#Convert completed list of rows into a table using Pandas\n",
        "tracks = pd.DataFrame(tracks)\n",
        "\n",
        "#Save tracks table as a CSV file\n",
        "tracks.to_csv(h5_to_convert + \"_coordinates.csv\", index=False)\n",
        "\n",
        "#Print\n",
        "print(\"File saved to: \"+ h5_to_convert + \"_coordinates.csv\")\n",
        "\n",
        "#View first 10 rows of tracks table\n",
        "tracks.head(10)"
      ],
      "metadata": {
        "cellView": "form",
        "id": "DDDgDcq8J1gH"
      },
      "execution_count": null,
      "outputs": []
    },
    {
      "cell_type": "markdown",
      "source": [
        "#2. Download output"
      ],
      "metadata": {
        "id": "ALn_8HXUN4PN"
      }
    },
    {
      "cell_type": "code",
      "source": [
        "#@title Download the coordinates file\n",
        "files.download(h5_to_convert + \"_coordinates.csv\")"
      ],
      "metadata": {
        "cellView": "form",
        "id": "EL5K0QjmN8yi"
      },
      "execution_count": null,
      "outputs": []
    }
  ]
}