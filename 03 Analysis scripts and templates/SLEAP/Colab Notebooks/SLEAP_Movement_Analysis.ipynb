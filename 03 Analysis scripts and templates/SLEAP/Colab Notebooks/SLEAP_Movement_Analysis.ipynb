{
  "nbformat": 4,
  "nbformat_minor": 0,
  "metadata": {
    "colab": {
      "name": "SLEAP Movement Analysis",
      "provenance": [],
      "collapsed_sections": [],
      "authorship_tag": "ABX9TyO3reTRztuZpCDtzr7hM8rS",
      "include_colab_link": true
    },
    "kernelspec": {
      "name": "python3",
      "display_name": "Python 3"
    },
    "language_info": {
      "name": "python"
    }
  },
  "cells": [
    {
      "cell_type": "markdown",
      "metadata": {
        "id": "view-in-github",
        "colab_type": "text"
      },
      "source": [
        "<a href=\"https://colab.research.google.com/github/Alan-Marcus/HCCS/blob/main/03%20Analysis%20scripts%20and%20templates/SLEAP/Colab%20Notebooks/SLEAP_Movement_Analysis.ipynb\" target=\"_parent\"><img src=\"https://colab.research.google.com/assets/colab-badge.svg\" alt=\"Open In Colab\"/></a>"
      ]
    },
    {
      "cell_type": "markdown",
      "source": [
        "**HCCS: Movement Analysis for SLEAP**"
      ],
      "metadata": {
        "id": "jM6MWOjP6yXF"
      }
    },
    {
      "cell_type": "markdown",
      "source": [
        "This is an example notebook to calculate the movement parameters for animals in videos recorded using the Home-Cage Camera System (HCCS; https://github.com/Alan-Marcus/HCCS) and tracked using SLEAP (https://sleap.ai).\n",
        "This notebook will calculate the Total Distance Moved and Time Mobile for each animal at each time point and save them in a CSV file. Optionally, the raw movement of each animal can also be plotted."
      ],
      "metadata": {
        "id": "X4BzkPSn634I"
      }
    },
    {
      "cell_type": "markdown",
      "source": [
        "#0. Setup\n",
        "\n",
        "1. Upload the video analysis files and the video_details file to the analysis folder in Google Drive.\n",
        "2. Run the following cells to setup the required utilities and connect your Google Drive to this session."
      ],
      "metadata": {
        "id": "7PnUlByf8Btq"
      }
    },
    {
      "cell_type": "code",
      "execution_count": null,
      "metadata": {
        "cellView": "form",
        "id": "q4THvyDp5-sE"
      },
      "outputs": [],
      "source": [
        "#@title Install Utilities\n",
        "import h5py\n",
        "import numpy as np\n",
        "import pandas as pd\n",
        "from scipy.interpolate import interp1d\n",
        "from google.colab import files\n",
        "from google.colab import drive\n",
        "from tqdm import tqdm\n",
        "import matplotlib.pyplot as plt\n",
        "from csv import writer\n",
        "from csv import DictWriter\n",
        "print('done')"
      ]
    },
    {
      "cell_type": "code",
      "source": [
        "#@title Connect Google Drive\n",
        "drive.mount('/content/drive/')"
      ],
      "metadata": {
        "cellView": "form",
        "id": "N5TVh5r18_NK"
      },
      "execution_count": null,
      "outputs": []
    },
    {
      "cell_type": "markdown",
      "source": [
        "#1. Specify Settings and Calculate Movement Parameters"
      ],
      "metadata": {
        "id": "8wfkZ53q98Xt"
      }
    },
    {
      "cell_type": "code",
      "source": [
        "#@title Edit Parameters\n",
        "#@markdown (This step will overwrite the existing movement results file unless a different filename is specified here)\n",
        "path_to_SLEAP_folder = \"/content/drive/MyDrive/SLEAP\" #@param {type:\"string\"}\n",
        "video_details_file = \"HCCS_example_project_video_details.csv\"  #@param {type:\"string\"}\n",
        "movement_results_filename = \"HCCS_example_project-movement-results\"  #@param {type:\"string\"}\n",
        "\n",
        "#@markdown ---\n",
        "#@markdown ### Choose missing value imputation method\n",
        "missing_fill = \"previous\" #@param [\"previous\", \"next\", \"linear\"]\n",
        "\n",
        "#@markdown ---\n",
        "#@markdown ### Edit movement threshold value\n",
        "#@markdown (cm; values ≤ this value are zeroed)\n",
        "threshold_limit =  0.2#@param {type:\"number\"} \n",
        "\n",
        "#@markdown ---\n",
        "#@markdown ### Choose to create raw movement plots\n",
        "xy_movement = \"Yes\" #@param [\"Yes\", \"No\"]\n",
        "xy_tracks = \"Yes\" #@param [\"Yes\", \"No\"]\n",
        "dpi_value =  100#@param {type:\"number\"}\n",
        "\n",
        "#---don't edit below\n",
        "path_to_SLEAP_analysis_folder = path_to_SLEAP_folder + \"/analysis/\"\n",
        "movementresults = path_to_SLEAP_analysis_folder + movement_results_filename + \".csv\"\n",
        "h5_list = path_to_SLEAP_analysis_folder + video_details_file\n",
        "\n",
        "#Define filling of missing values\n",
        "def fill_missing(Y, kind=missing_fill):\n",
        "    \"\"\"Fills missing values independently along each dimension after the first.\"\"\"\n",
        "    # Store initial shape.\n",
        "    initial_shape = Y.shape\n",
        "    # Flatten after first dim.\n",
        "    Y = Y.reshape((initial_shape[0], -1))\n",
        "    # Interpolate along each slice.\n",
        "    for i in range(Y.shape[-1]):\n",
        "        y = Y[:, i]\n",
        "        # Build interpolant.\n",
        "        x = np.flatnonzero(~np.isnan(y))\n",
        "        f = interp1d(x, y[x], kind=kind, fill_value=np.nan, bounds_error=False)\n",
        "        # Fill missing\n",
        "        xq = np.flatnonzero(np.isnan(y))\n",
        "        y[xq] = f(xq)\n",
        "        # Fill leading or trailing NaNs with the nearest non-NaN values\n",
        "        mask = np.isnan(y)\n",
        "        y[mask] = np.interp(np.flatnonzero(mask), np.flatnonzero(~mask), y[~mask])\n",
        "        # Save slice\n",
        "        Y[:, i] = y\n",
        "    # Restore to initial shape.\n",
        "    Y = Y.reshape(initial_shape)\n",
        "    return Y\n",
        "\n",
        "#Define appending list to csv\n",
        "def append_list_as_row(list_of_elem, file_mode):\n",
        "    with open(movementresults, file_mode, newline='') as write_obj:\n",
        "        # Create a writer object from csv module\n",
        "        csv_writer = writer(write_obj)\n",
        "        # Add contents of list as last row in the csv file\n",
        "        csv_writer.writerow(list_of_elem)\n",
        "\n",
        "#Define appending dictionary to csv\n",
        "def append_dict_as_row():\n",
        "    with open(movementresults, 'a', newline='') as write_obj:\n",
        "        # Create a writer object from csv module\n",
        "        dict_writer = DictWriter(write_obj, field_names)\n",
        "        # Add dictionary as wor in the csv\n",
        "        dict_writer.writerow(dict)\n",
        "\n",
        "#Load data, iterate over each row of data to find maximum number of tracks, create movement results csv, then iterate over each row to fill missing values and calculate movement parameters\n",
        "data = pd.read_csv(h5_list)\n",
        "num_rows = [*range(len(data))]\n",
        "\n",
        "print(\"Counting maximum number of tracks in H5 files\")\n",
        "max_tracks = 0\n",
        "for row in tqdm(num_rows):\n",
        "  #Load data\n",
        "  with h5py.File(path_to_SLEAP_analysis_folder + data.loc[row,\"h5_filename\"], \"r\") as f:\n",
        "    locations = f[\"tracks\"][:].T\n",
        "  if locations.shape[3] > max_tracks:\n",
        "    max_tracks = locations.shape[3]\n",
        "print(\"Maximum number of tracks:\", max_tracks)\n",
        "\n",
        "row1_contents = ['']*3 + ['Total distance moved (cm)'] + ['']*(max_tracks-1) + ['Time mobile (s)'] + ['']*(max_tracks-1) + ['Time mobile (%)'] + ['']*(max_tracks-1)\n",
        "row2_contents = ['Date','Time_point','Group'] + ['Animal_' + str(i) for i in range(1, max_tracks+1)]*3 + ['Filename']\n",
        "field_names = ['Date','Time_point','Group'] + ['total_distance_animal' + str(i) for i in range(1, max_tracks+1)] + ['time_mobile_s_animal' + str(i) for i in range(1, max_tracks+1)]+ ['time_mobile_pc_animal' + str(i) for i in range(1, max_tracks+1)]+ ['Filename']\n",
        "append_list_as_row(row1_contents, 'w')\n",
        "append_list_as_row(row2_contents, 'a')\n",
        "print()\n",
        "print(\"Created movement results file:\", movementresults)\n",
        "\n",
        "print(\"Calculating movement parameters\")\n",
        "for row in tqdm(num_rows):\n",
        "  #Load data\n",
        "  with h5py.File(path_to_SLEAP_analysis_folder + data.loc[row,\"h5_filename\"], \"r\") as f:\n",
        "    locations = f[\"tracks\"][:].T\n",
        "  locations = fill_missing(locations)\n",
        "\n",
        "  #Calculate movement parameters\n",
        "  h5_filename = data.loc[row,\"h5_filename\"]\n",
        "  start_frame = int(data.loc[row,\"start_frame\"])\n",
        "  end_frame = int(data.loc[row,\"end_frame\"])\n",
        "  pixels_per_cm = data.loc[row,\"pixels_per_cm\"]\n",
        "  frames_per_s = data.loc[row,\"fps\"]\n",
        "\n",
        "  threshold = pixels_per_cm*threshold_limit\n",
        "  frame_num = list(range(start_frame-1, end_frame))   #Note: SLEAP interface reports first frame as 1 not 0, so automatically adjusted here\n",
        "  animal_list = list(range(0,locations.shape[3]))   #dynamiclly creates animal_list\n",
        "  dict = {}\n",
        "  dict['Date'] = data.loc[row,\"date\"]\n",
        "  dict['Time_point'] = data.loc[row,\"time_point\"]\n",
        "  dict['Group'] = data.loc[row,\"group\"]\n",
        "  dict['Filename'] = h5_filename\n",
        "\n",
        "  for animal in animal_list:\n",
        "    raw_distance = []\n",
        "    filtered_distance = []\n",
        "    time_mobile_frame = []\n",
        "\n",
        "    for frame in frame_num:\n",
        "      if frame >start_frame-1:\n",
        "        calc_raw_distance = ((locations[frame, 0, 0, animal]-locations[frame-1, 0, 0, animal])**2+(locations[frame, 0, 1, animal]-locations[frame-1, 0, 1, animal])**2)**(1/2)\n",
        "        if calc_raw_distance <= threshold:  #values <= to the threshold value are zeroed\n",
        "          calc_filtered_distance = 0\n",
        "        else:\n",
        "          calc_filtered_distance = calc_raw_distance\n",
        "        if calc_filtered_distance >0:\n",
        "          time_mobile_frame.append(1)\n",
        "        else:\n",
        "          time_mobile_frame.append(0)\n",
        "        raw_distance.append(calc_raw_distance)\n",
        "        filtered_distance.append(calc_filtered_distance)\n",
        "\n",
        "    dict['total_distance_animal' + str(animal+1)] = sum(filtered_distance) / pixels_per_cm\n",
        "    dict['time_mobile_s_animal' + str(animal+1)] = sum(time_mobile_frame) / frames_per_s\n",
        "    dict['time_mobile_pc_animal' + str(animal+1)] = sum(time_mobile_frame)*100 / (end_frame - start_frame)\n",
        "\n",
        "  append_dict_as_row()\n",
        "\n",
        "  #Plot centroid xy individual movement and xy tracks\n",
        "  centroid_loc = locations[start_frame-1:end_frame, 0, :, :]/pixels_per_cm\n",
        "  if xy_movement == \"Yes\":\n",
        "    #xy individual movement\n",
        "    plt.figure(figsize=(15,6), dpi=dpi_value)\n",
        "    plt.ylim(-972/pixels_per_cm,1296/pixels_per_cm)\n",
        "    plt.title('Centroid xy movement: '+h5_filename+'\\n(x-axis shown >0; y-axis shown <0)')\n",
        "    for animal in animal_list:\n",
        "      #x movement\n",
        "      p = plt.plot(centroid_loc[:,0,animal], label='animal-'+ str(animal+1))\n",
        "      #y movement\n",
        "      plt.plot(-1*centroid_loc[:,1,animal], p[0].get_color())\n",
        "    plt.legend()\n",
        "    plt.savefig(path_to_SLEAP_analysis_folder + \"plots/xy-movement_\" + movement_results_filename + \"_\" + h5_filename + '.png', bbox_inches='tight')\n",
        "    plt.close()\n",
        "  if xy_tracks == \"Yes\":\n",
        "    #xy tracks\n",
        "    plt.figure(figsize=(8,6), dpi=dpi_value)\n",
        "    plt.xlim(0,1296/pixels_per_cm)\n",
        "    plt.ylim(972/pixels_per_cm,0)\n",
        "    plt.title('Centroid xy tracks: '+h5_filename)\n",
        "    for animal in animal_list:\n",
        "      plt.plot(centroid_loc[:,0,animal],centroid_loc[:,1,animal], label='animal-'+ str(animal+1))\n",
        "    plt.legend()\n",
        "    plt.savefig(path_to_SLEAP_analysis_folder + \"plots/xy-tracks_\" + movement_results_filename + \"_\" + h5_filename + '.png', bbox_inches='tight')\n",
        "    plt.close()\n",
        "\n",
        "print()\n",
        "print(len(data), \"videos analysed and data added to \" + movementresults)\n",
        "if xy_movement == \"Yes\":\n",
        "  print(len(data), \"xy_movement plots created and saved in \" + path_to_SLEAP_analysis_folder + \"plots/\")\n",
        "if xy_tracks == \"Yes\":\n",
        "  print(len(data), \"xy_tracks plots created and saved in \" + path_to_SLEAP_analysis_folder + \"plots/\")"
      ],
      "metadata": {
        "cellView": "form",
        "id": "5p1cc0VY9DNZ"
      },
      "execution_count": null,
      "outputs": []
    },
    {
      "cell_type": "markdown",
      "source": [
        "#2. Download output"
      ],
      "metadata": {
        "id": "kE9FoxXy11FX"
      }
    },
    {
      "cell_type": "code",
      "source": [
        "#@title Download the movement results file\n",
        "files.download(movementresults)"
      ],
      "metadata": {
        "cellView": "form",
        "id": "shMYSPCU19RG"
      },
      "execution_count": null,
      "outputs": []
    },
    {
      "cell_type": "code",
      "source": [
        "#@title Zip the movement plots\n",
        "!cd $path_to_SLEAP_analysis_folder/plots/ && zip -r $path_to_SLEAP_folder/$movement_results_filename-plots *.png\n",
        "print(\"Done\")"
      ],
      "metadata": {
        "cellView": "form",
        "id": "yTXtfJ7f2dRJ"
      },
      "execution_count": null,
      "outputs": []
    },
    {
      "cell_type": "code",
      "source": [
        "#@title Download the zipped movement plots\n",
        "files.download(path_to_SLEAP_folder + \"/\" + movement_results_filename + \"-plots\" + \".zip\")"
      ],
      "metadata": {
        "cellView": "form",
        "id": "iUAfFjcN7qAw"
      },
      "execution_count": null,
      "outputs": []
    }
  ]
}