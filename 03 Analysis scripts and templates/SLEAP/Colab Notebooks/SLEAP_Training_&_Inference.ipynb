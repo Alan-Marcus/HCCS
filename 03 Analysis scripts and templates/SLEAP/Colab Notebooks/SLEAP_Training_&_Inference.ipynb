{
  "nbformat": 4,
  "nbformat_minor": 0,
  "metadata": {
    "colab": {
      "name": "SLEAP Training & Inference",
      "provenance": [],
      "collapsed_sections": [],
      "include_colab_link": true
    },
    "kernelspec": {
      "display_name": "Python 3",
      "name": "python3"
    },
    "accelerator": "GPU"
  },
  "cells": [
    {
      "cell_type": "markdown",
      "metadata": {
        "id": "view-in-github",
        "colab_type": "text"
      },
      "source": [
        "<a href=\"https://colab.research.google.com/github/Alan-Marcus/HCCS/blob/main/03%20Analysis%20scripts%20and%20templates/SLEAP/Colab%20Notebooks/SLEAP_Training_%26_Inference.ipynb\" target=\"_parent\"><img src=\"https://colab.research.google.com/assets/colab-badge.svg\" alt=\"Open In Colab\"/></a>"
      ]
    },
    {
      "cell_type": "markdown",
      "metadata": {
        "id": "e-cBhcxxGeOv"
      },
      "source": [
        "**HCCS: Training and Inference with SLEAP**"
      ]
    },
    {
      "cell_type": "markdown",
      "source": [
        "This is an example notebook to demonstrate the use of SLEAP (https://sleap.ai) with videos recorded using the Home-Cage Camera System (HCCS; https://github.com/Alan-Marcus/HCCS).\n",
        "This notebook will use your labelled data to train a top-down model to identify the centroid location on an animal, then predict (infer) the centroids of all animals across all frames of your videos and link them into individual tracks."
      ],
      "metadata": {
        "id": "YXio_Xk5yQNR"
      }
    },
    {
      "cell_type": "markdown",
      "metadata": {
        "id": "kaRUX127II4z"
      },
      "source": [
        "#0. Setup\n",
        "\n",
        "1. Upload the configuration and video files to their respective folders in Google Drive.\n",
        "2. Make sure Colab is set to use a GPU (menu Runtime > Change runtime type: Hardware accelerator is set to GPU).\n",
        "3. Run the following cells to install SLEAP and connect your Google Drive to this session."
      ]
    },
    {
      "cell_type": "code",
      "metadata": {
        "id": "BpsOSqv-PjdL",
        "cellView": "form"
      },
      "source": [
        "#@title Install SLEAP\n",
        "import time\n",
        "from google.colab import files\n",
        "from google.colab import drive\n",
        "!pip uninstall -y opencv-python opencv-contrib-python\n",
        "!pip install sleap"
      ],
      "execution_count": null,
      "outputs": []
    },
    {
      "cell_type": "code",
      "metadata": {
        "id": "LQ1cMssuIW2K",
        "cellView": "form"
      },
      "source": [
        "#@title Connect Google Drive\n",
        "drive.mount('/content/drive/')"
      ],
      "execution_count": null,
      "outputs": []
    },
    {
      "cell_type": "markdown",
      "source": [
        "#1. Specify Training File and Model Details\n"
      ],
      "metadata": {
        "id": "l7YqEgF37HRF"
      }
    },
    {
      "cell_type": "code",
      "source": [
        "#@title Edit Parameters\n",
        "path_to_SLEAP_folder = \"/content/drive/MyDrive/SLEAP\" #@param {type:\"string\"}\n",
        "labelled_frames_file = \"HCCS_example_project.pkg.slp\" #@param {type:\"string\"}\n",
        "model_name = \"HCCS_example\" #@param {type:\"string\"}\n",
        "\n",
        "#---don't edit below\n",
        "centroid_config = path_to_SLEAP_folder + \"/config/centroid.json\"\n",
        "centered_instance_config = path_to_SLEAP_folder + \"/config/centered_instance.json\"\n",
        "train_pkg = path_to_SLEAP_folder + \"/config/\" + labelled_frames_file\n",
        "models = path_to_SLEAP_folder + \"/models/\" + model_name\n",
        "centroid_model = models + \".centroid\"\n",
        "centered_instance_model = models + \".centered_instance\"\n",
        "video_folder = path_to_SLEAP_folder + \"/videos/\"\n",
        "\n",
        "print(\"Parameters set\")\n",
        "print(\"SLEAP folder: \" + path_to_SLEAP_folder)\n",
        "print(\"config folder: \" + path_to_SLEAP_folder + \"/config/\")\n",
        "print(\"models folder: \" + path_to_SLEAP_folder + \"/models/\")\n",
        "print(\"videos folder: \" + video_folder)\n",
        "print(\"\\n\" + \"Labelled frames file: \" + train_pkg)\n",
        "print(\"\\n\" + \"Models\")\n",
        "print(\"Centroid model: \" + centroid_model)\n",
        "print(\"Centered Instance model: \" + centered_instance_model)\n"
      ],
      "metadata": {
        "cellView": "form",
        "id": "B-AJA_1R9N9f"
      },
      "execution_count": null,
      "outputs": []
    },
    {
      "cell_type": "markdown",
      "metadata": {
        "id": "J59fUaB6SKUn"
      },
      "source": [
        "#2. Train Model"
      ]
    },
    {
      "cell_type": "code",
      "source": [
        "#@title Train Centroid Model\n",
        "!sleap-train $centroid_config $train_pkg --run_name $models\n",
        "\n",
        "time.sleep(5)\n",
        "print(\"Done\")"
      ],
      "metadata": {
        "cellView": "form",
        "id": "BkxVKLe8_po_"
      },
      "execution_count": null,
      "outputs": []
    },
    {
      "cell_type": "code",
      "source": [
        "#@title Train Centered Instance Model\n",
        "!sleap-train $centered_instance_config $train_pkg --run_name $models\n",
        "\n",
        "time.sleep(5)\n",
        "print(\"Done\")"
      ],
      "metadata": {
        "cellView": "form",
        "id": "zWC3aJCBBfj_"
      },
      "execution_count": null,
      "outputs": []
    },
    {
      "cell_type": "markdown",
      "metadata": {
        "id": "4W5MCu1RTWo7"
      },
      "source": [
        "#3. Use Trained Model for Inference\n",
        "If using a model trained in a previous session, complete steps 0 and 1 above before continuing here."
      ]
    },
    {
      "cell_type": "code",
      "source": [
        "#@title Add List of Videos for Inference\n",
        "#@markdown (Paste contents of text file created by \"HCCS_SLEAP-create-training-videos-list.bat\" here)\n",
        "videos = \"PiCam01-Air_20210122_09-35.mp4 PiCam01-Air_20210122_10-35.mp4 PiCam02-Cl2_20210122_09-35.mp4 PiCam02-Cl2_20210122_10-35.mp4\" #@param {type:\"string\"}\n",
        "\n",
        "videos_list = list(videos.split(\" \"))\n",
        "print(\"Videos in list:\", len(videos_list))\n",
        "print(\"Videos list: \", videos_list)\n",
        "\n",
        "#@markdown ---\n",
        "#@markdown ### Choose to infer for all frames in each video or a selection\n",
        "#@markdown (Choose \"Selection\" and enter either a range (e.g. 200-1200) or individual frames (e.g. 200,230,260,800,850). Choosing \"All\" ignores inference_selection)\n",
        "infer_on_frames = \"All\" #@param [\"All\", \"Selection\"]\n",
        "inference_selection = \"200-1200\" #@param {type:\"string\"}\n",
        "\n",
        "if infer_on_frames == \"Selection\":\n",
        "  frames_opt = \"--frames \" + inference_selection\n",
        "  print(\"Inferring for frames: \" + inference_selection)\n",
        "else:\n",
        "  frames_opt = \"\"\n",
        "  print(\"Inferring for all frames\")\n",
        "\n",
        "#@markdown ---\n",
        "#@markdown ### Adjust tracking parameters\n",
        "#@markdown (Setting tracking_cull to 0 will disable culling)\n",
        "tracking_cull = 5#@param {type:\"number\"}\n",
        "tracking_window = 10#@param {type:\"number\"}\n",
        "\n",
        "if tracking_cull > 0:\n",
        "  cull = \"--tracking.target_instance_count \" + str(tracking_cull) + \" --tracking.pre_cull_to_target 1\"\n",
        "  print(\"Culling the number of individuals to track to a maximum of \" + str(tracking_cull))\n",
        "else:\n",
        "  cull = \"--tracking.pre_cull_to_target 0\"\n",
        "  print(\"Track culling disabled\")\n",
        "\n",
        "for video in videos_list:\n",
        "  vid = video_folder + video\n",
        "  pred = vid + \".predictions.slp\"\n",
        "  print(vid, \"\\n\")\n",
        "  !sleap-track $vid $frames_opt --tracking.tracker simple --tracking.similarity centroid --tracking.track_window $tracking_window --tracking.match hungarian $cull --tracking.post_connect_single_breaks 1 -m $centered_instance_model -m $centroid_model\n",
        "  print(\"----------\")\n",
        "  !sleap-inspect $pred\n",
        "  print(\"----------\")\n",
        "  print(\"----------\", \"\\n\")\n",
        "print(\"Done\")"
      ],
      "metadata": {
        "id": "5AixJxvRZyiK",
        "cellView": "form"
      },
      "execution_count": null,
      "outputs": []
    },
    {
      "cell_type": "markdown",
      "metadata": {
        "id": "fWdbUIsFVwb_"
      },
      "source": [
        "#4. Download output"
      ]
    },
    {
      "cell_type": "code",
      "metadata": {
        "id": "3QqZv3DRxfAU",
        "cellView": "form"
      },
      "source": [
        "#@title Zip the prediction files\n",
        "predictions_zip_file_name = \"HCCS_example_project_predictions_iteration-01\" #@param {type:\"string\"}\n",
        "!cd $video_folder && zip -r $path_to_SLEAP_folder/$predictions_zip_file_name *.slp\n",
        "print(\"Done\")"
      ],
      "execution_count": null,
      "outputs": []
    },
    {
      "cell_type": "code",
      "metadata": {
        "id": "fbpnd2EmzqGr",
        "cellView": "form"
      },
      "source": [
        "#@title Download the zipped predictions\n",
        "files.download(path_to_SLEAP_folder + \"/\" + predictions_zip_file_name + \".zip\")"
      ],
      "execution_count": null,
      "outputs": []
    },
    {
      "cell_type": "code",
      "metadata": {
        "id": "8dclR4rWWJhs",
        "cellView": "form"
      },
      "source": [
        "#@title Zip the models folder\n",
        "models_zip_file_name = \"HCCS_example_project_models_iteration-01\" #@param {type:\"string\"}\n",
        "!cd $path_to_SLEAP_folder/models/ && zip -r $path_to_SLEAP_folder/$models_zip_file_name *.*\n",
        "print(\"Done\")"
      ],
      "execution_count": null,
      "outputs": []
    },
    {
      "cell_type": "code",
      "metadata": {
        "id": "u_ADeGurknCn",
        "cellView": "form"
      },
      "source": [
        "#@title Download the zipped models folder\n",
        "files.download(path_to_SLEAP_folder + \"/\" + models_zip_file_name + \".zip\")"
      ],
      "execution_count": null,
      "outputs": []
    }
  ]
}